{
 "cells": [
  {
   "cell_type": "markdown",
   "metadata": {},
   "source": [
    "# Swift data analysis\n",
    "Created by: Andreas B <br>\n",
    "Date: 17th of July 2024 (Last Revision: 13th of August 2024) <br>\n",
    "Version: 1.1 <br>\n",
    "Purpose: Batch analysis of Swift data exported as csv. <br>\n",
    "Description: Upload a folder to plot a combined histogram of the files provided <br>\n",
    "\n",
    "Full documentation (in German) available at https://github.com/andreasmz/agheine/wiki/Swift-Data-Analysis"
   ]
  },
  {
   "cell_type": "markdown",
   "metadata": {},
   "source": [
    "#### 1 Setup"
   ]
  },
  {
   "cell_type": "code",
   "execution_count": 1,
   "metadata": {},
   "outputs": [],
   "source": [
    "import numpy as np\n",
    "import pandas as pd\n",
    "import matplotlib.pyplot as plt\n",
    "import os\n",
    "from ipywidgets import interact, Button\n",
    "import ipywidgets as widgets\n",
    "from datetime import datetime\n",
    "from ipyfilechooser import FileChooser"
   ]
  },
  {
   "cell_type": "markdown",
   "metadata": {},
   "source": [
    "#### 2 Analysis\n",
    "Here the data can be plotted as histogram and exported as raw numbers or image"
   ]
  },
  {
   "cell_type": "markdown",
   "metadata": {},
   "source": [
    "Select here a working folder containing csv files"
   ]
  },
  {
   "cell_type": "code",
   "execution_count": 2,
   "metadata": {},
   "outputs": [
    {
     "data": {
      "application/vnd.jupyter.widget-view+json": {
       "model_id": "212c9d607cf04b9894b5978d7d77ba0e",
       "version_major": 2,
       "version_minor": 0
      },
      "text/plain": [
       "FileChooser(path='D:\\Eigene Datein\\Programmieren\\Git\\abrilka\\agheine\\Swift', filename='', title='Select a fold…"
      ]
     },
     "metadata": {},
     "output_type": "display_data"
    }
   ],
   "source": [
    "def _FolderSelected(_fc):\n",
    "    global data, hist, histMerged\n",
    "    path = _fc.selected_path\n",
    "    if (path is not None):\n",
    "        print(\">> Select folder\", path)\n",
    "        data = {}\n",
    "        hist = None\n",
    "        histMerged = None\n",
    "        files = [f for f in os.listdir(path) if os.path.isfile(os.path.join(path, f)) and f.endswith(\".csv\")]\n",
    "        print(\">> Imported files:\")\n",
    "        for file in files:\n",
    "            data[file] = pd.read_csv(os.path.join(path, file), sep=\",\", header=0)\n",
    "            print(\"\\t\",file, f'({len(data[file])} entries)')\n",
    "    else:\n",
    "        print(\">> No folder selected\")\n",
    "fc = FileChooser()\n",
    "fc.show_only_dirs = True\n",
    "fc.title = \"Select a folder containg .csv files from Swift\"\n",
    "fc.register_callback(_FolderSelected)\n",
    "display(fc)"
   ]
  },
  {
   "cell_type": "markdown",
   "metadata": {},
   "source": [
    "Run this cell to display the data and to set the bins, the min and the max"
   ]
  },
  {
   "cell_type": "code",
   "execution_count": 18,
   "metadata": {},
   "outputs": [
    {
     "name": "stdout",
     "output_type": "stream",
     "text": [
      "Total datapoints: 2766\n"
     ]
    },
    {
     "data": {
      "application/vnd.jupyter.widget-view+json": {
       "model_id": "7b3c8b8d68584155878ca4f87c787942",
       "version_major": 2,
       "version_minor": 0
      },
      "text/plain": [
       "interactive(children=(Text(value='mjd histogram weighted by mjd_n', description='Title'), IntSlider(value=30, …"
      ]
     },
     "metadata": {},
     "output_type": "display_data"
    },
    {
     "data": {
      "application/vnd.jupyter.widget-view+json": {
       "model_id": "f7d1b380b7e64078abb6f82e737f7a8d",
       "version_major": 2,
       "version_minor": 0
      },
      "text/plain": [
       "Button(description='Save figure', style=ButtonStyle())"
      ]
     },
     "metadata": {},
     "output_type": "display_data"
    },
    {
     "data": {
      "application/vnd.jupyter.widget-view+json": {
       "model_id": "c0ff3f74a60b430e8dd648587536d338",
       "version_major": 2,
       "version_minor": 0
      },
      "text/plain": [
       "Button(description='Export data', style=ButtonStyle())"
      ]
     },
     "metadata": {},
     "output_type": "display_data"
    },
    {
     "name": "stdout",
     "output_type": "stream",
     "text": [
      "Log\n"
     ]
    },
    {
     "data": {
      "text/html": [
       "<a href='test.png' target='_blank'>test.png</a><br>"
      ],
      "text/plain": [
       "d:\\Eigene Datein\\Programmieren\\Git\\abrilka\\agheine\\Swift\\test.png"
      ]
     },
     "metadata": {},
     "output_type": "display_data"
    }
   ],
   "source": [
    "dataMerged = pd.concat([d for d in data.values()])\n",
    "print(\"Total datapoints:\", len(dataMerged))\n",
    "def Plot(title, bins, min, max):\n",
    "    global dataMerged, hist, fig,ax\n",
    "    fig, ax = plt.subplots()\n",
    "    hist = ax.hist(dataMerged[\"mjd\"], weights=dataMerged[\"mjd_n\"], bins=bins, range=(min,max))\n",
    "    plt.title(title)\n",
    "\n",
    "interact(Plot, \n",
    "         title=widgets.Text(value=\"mjd histogram weighted by mjd_n\", description=\"Title\"),\n",
    "         bins=widgets.IntSlider(min=1, max=100, step=1, value=30), \n",
    "         min=widgets.IntSlider(min=0, max=1000, step=10, value=0), \n",
    "         max=widgets.IntSlider(min=0, max=3000, step=10, value=np.max(dataMerged[\"mjd\"])))\n",
    "def SaveCSV(self):\n",
    "    global hist\n",
    "    save_file = filedialog.asksaveasfile(parent=root, mode=\"w\", title=\"Save as csv\", filetypes=[(\"Comma-separated values\", \"*.csv\"), (\"All files\", \"*.*\")], defaultextension=\".csv\")\n",
    "    if save_file is None:\n",
    "        print(datetime.now(),\"No path selected\")\n",
    "    else:\n",
    "        save_file.write(\"mjd_left,mjd_right,'mjd weighted by mjd_n'\\n\")\n",
    "        for i in range(len(hist[0])):\n",
    "            save_file.write(\"%s,%s,%s\\n\" % (round(hist[1][i],3),round(hist[1][i+1],3), hist[0][i]))\n",
    "        save_file.close()\n",
    "        print(datetime.now(),\"Saved csv to\",save_file.name)\n",
    "def SaveFig(self):\n",
    "    global hist,fig\n",
    "    from IPython.display import FileLink\n",
    "    display(FileLink(\"test.png\"))\n",
    "    #save_file = filedialog.asksaveasfile(parent=root, mode=\"w\", title=\"Save as PNG\", filetypes=[(\"PNG\", \"*.png\"), (\"All files\", \"*.*\")], defaultextension=\".png\")\n",
    "    #if save_file is None:\n",
    "    #    print(datetime.now(),\"No path selected\")\n",
    "    #else:\n",
    "    #    _fname = save_file.name\n",
    "    #    save_file.close()\n",
    "    #    fig.savefig(_fname)\n",
    "    #    print(datetime.now(),\"Saved PNG to\",save_file.name)\n",
    "btnSaveFig = Button(description=\"Save figure\")\n",
    "btnSaveCSV = Button(description=\"Export data\")\n",
    "display(btnSaveFig)\n",
    "display(btnSaveCSV)\n",
    "btnSaveCSV.on_click(SaveCSV)\n",
    "btnSaveFig.on_click(SaveFig)\n",
    "print(\"Log\")"
   ]
  }
 ],
 "metadata": {
  "kernelspec": {
   "display_name": "base",
   "language": "python",
   "name": "python3"
  },
  "language_info": {
   "codemirror_mode": {
    "name": "ipython",
    "version": 3
   },
   "file_extension": ".py",
   "mimetype": "text/x-python",
   "name": "python",
   "nbconvert_exporter": "python",
   "pygments_lexer": "ipython3",
   "version": "3.11.3"
  }
 },
 "nbformat": 4,
 "nbformat_minor": 2
}
