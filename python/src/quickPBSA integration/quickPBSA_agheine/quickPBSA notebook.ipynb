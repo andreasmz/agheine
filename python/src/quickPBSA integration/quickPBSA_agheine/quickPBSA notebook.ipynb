{
 "cells": [
  {
   "cell_type": "markdown",
   "metadata": {},
   "source": [
    "# QuickPBSA Integration for AG Heine\n",
    "Created by Andreas Brilka Februar 2025"
   ]
  },
  {
   "cell_type": "code",
   "execution_count": 1,
   "metadata": {},
   "outputs": [],
   "source": [
    "import os\n",
    "import numpy as np\n",
    "import pandas as pd\n",
    "import matplotlib.pyplot as plt\n",
    "import quickpbsa as pbsa\n",
    "import tkinter as tk\n",
    "from tkinter import filedialog\n",
    "from pathlib import Path\n",
    "import math\n",
    "\n",
    "from IPython.core.display import HTML\n",
    "\n",
    "root = tk.Tk()\n",
    "root.withdraw()\n",
    "root.call('wm', 'attributes', '.', '-topmost', True)\n",
    "\n",
    "notebook_path = Path(os.path.abspath(\"\"))"
   ]
  },
  {
   "cell_type": "markdown",
   "metadata": {},
   "source": [
    "### Import files from ImageJ/Neurotorch Multimeasure\n",
    "\n",
    "This cell allows you to import a file created by ImageJ/Neurotorch by measuring ROIs"
   ]
  },
  {
   "cell_type": "code",
   "execution_count": null,
   "metadata": {},
   "outputs": [],
   "source": [
    "# Execute this cell to open a file\n",
    "tempFile = None\n",
    "if not (p := filedialog.askopenfilename(parent=root, title=\"Open a multi measure CSV file\", defaultextension=\"*.csv\", filetypes=[(\".csv\", \"*.csv\"), (\"All files\", \"*.*\")])) or not (path := Path(p)).exists():\n",
    "    print(\"Your provided path is invalid or empty\")\n",
    "else:\n",
    "    tempFile = notebook_path / \"file.csv\"\n",
    "    data_multimeasure = pd.read_csv(path, sep=\",\", header=0, index_col=0)\n",
    "    display(HTML(f\"<h3> {path.name} </h3>\"))\n",
    "    display(data_multimeasure)\n",
    "\n",
    "    data_multimeasure.reset_index(drop=True, inplace=True)\n",
    "    data = data_multimeasure.transpose().copy()\n",
    "    data[\"id\"] = data.index\n",
    "    data = data[[\"id\"] + list(data.columns[0:-1])]\n",
    "    data.to_csv(tempFile, index=False)\n",
    "\n",
    "    nrows, ncols = math.ceil(len(data_multimeasure.columns)/3), 3\n",
    "    fig, axes = plt.subplots(nrows=nrows, ncols=ncols, figsize=(15, 5*nrows))\n",
    "    axes = axes.flatten()\n",
    "    for ax in axes:\n",
    "        ax.set_axis_off()\n",
    "    for i, df_c in enumerate(data_multimeasure.columns):\n",
    "        ax = axes[i]\n",
    "        ax.set_axis_on()\n",
    "        x, y = data_multimeasure.index, data_multimeasure[df_c]\n",
    "        ax.plot(x,y)\n",
    "        ax.set_xlabel(\"Frame\")\n",
    "        ax.set_title(f\"{df_c}\")\n",
    "    fig.tight_layout()\n",
    "    plt.show()"
   ]
  },
  {
   "cell_type": "markdown",
   "metadata": {},
   "source": [
    "### Detect steps by using quickPBSA\n",
    "Change here the parameters for detection!"
   ]
  },
  {
   "cell_type": "code",
   "execution_count": null,
   "metadata": {},
   "outputs": [],
   "source": [
    "KVthreshold = 20 # KV threshold (1/3 to 1/2 of typical last step)\n",
    "KV_maxiter = 100   # Maximum KV iterations (much higher than expected number of steps)\n",
    "kvout, kv_outfile, kv_jsonfile = pbsa.steps_preliminary.kv_file(str(tempFile), KVthreshold, KV_maxiter)"
   ]
  },
  {
   "cell_type": "code",
   "execution_count": null,
   "metadata": {},
   "outputs": [],
   "source": [
    "# Plot output\n",
    "nrows, ncols = math.ceil((len(kvout) // 5)/2), 2\n",
    "fig, axes = plt.subplots(nrows=nrows, ncols=ncols, figsize=(15, 5*nrows))\n",
    "axes = axes.flatten()\n",
    "for ax in axes:\n",
    "    ax.set_axis_off()\n",
    "for i in range(len(kvout)//5):\n",
    "    ax = axes[i]\n",
    "    ax.set_axis_on()\n",
    "    name = kvout[\"id\"][5*i]\n",
    "    x = range(len(kvout.columns[10:]))\n",
    "    y = np.array(kvout.iloc[5*i, 10:])\n",
    "    y_mean = np.array(kvout.iloc[5*i + 1, 10:])\n",
    "    y_std = np.array(kvout.iloc[5*i + 2, 10:])\n",
    "    y_fintens = np.array(kvout.iloc[5*i + 3, 10:])\n",
    "    y_fkv = np.array(kvout.iloc[5*i + 4, 10:])\n",
    "    ax.plot(x,y, label=\"Trace\")\n",
    "    ax.plot(x,y_mean, label=\"Means\")\n",
    "    ax.plot(x,y_std, label=\"Standard Deviations\")\n",
    "    ax.plot(x,y_fintens, label=\"Fluorophores Ruler\")\n",
    "    ax.plot(x,y_fkv, label=\"Fluorophores Preliminary\")\n",
    "    ax.set_xlabel(\"Frame\")\n",
    "    ax.set_title(f\"{name}\")\n",
    "    ax.legend()\n",
    "fig.tight_layout()\n",
    "plt.show()"
   ]
  }
 ],
 "metadata": {
  "kernelspec": {
   "display_name": "agheine",
   "language": "python",
   "name": "python3"
  },
  "language_info": {
   "codemirror_mode": {
    "name": "ipython",
    "version": 3
   },
   "file_extension": ".py",
   "mimetype": "text/x-python",
   "name": "python",
   "nbconvert_exporter": "python",
   "pygments_lexer": "ipython3",
   "version": "3.12.8"
  }
 },
 "nbformat": 4,
 "nbformat_minor": 2
}
