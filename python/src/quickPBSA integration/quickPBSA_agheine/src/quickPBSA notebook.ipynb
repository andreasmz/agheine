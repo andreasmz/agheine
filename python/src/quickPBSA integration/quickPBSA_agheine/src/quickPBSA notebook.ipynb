{
 "cells": [
  {
   "cell_type": "markdown",
   "metadata": {},
   "source": [
    "# QuickPBSA Integration for AG Heine\n",
    "Created by Andreas Brilka Februar 2025"
   ]
  },
  {
   "cell_type": "markdown",
   "metadata": {},
   "source": [
    "### 0 Tutorial\n",
    "\n",
    "* To get started, first select the appropriate kernel: agheine\n",
    "\n",
    "![Selecting a kernel](tutorial_select_kernel.png)\n",
    "\n",
    "![AG Heine kernel](tutorial_kernel_agheine.png)\n",
    "\n",
    "* Now you have to run each cell by clicking the run icon on the top left side\n",
    "\n",
    "![Running a cell](tutorial_run_cell.png)\n",
    "\n",
    "* To copy the plots to the clipboard (left button) or save them (right button), click on the upper right side\n",
    "\n",
    "![Save plot](tutorial_save_image.png)\n",
    "\n",
    "* When you are done, don't forget to close the command shell window which also opened when you started this notebook. This will clean up temporary files\n",
    "\n",
    "BUT: Do this only AFTER you closed the notebook\n",
    "\n",
    "![Close the notebook](tutorial_close_notebook.png)\n",
    "\n",
    "![Closing the cmd](tutorial_cmd.png)"
   ]
  },
  {
   "cell_type": "markdown",
   "metadata": {},
   "source": [
    "### 1 Imports\n",
    "You need to run this cell first to import all necessary dependencies"
   ]
  },
  {
   "cell_type": "code",
   "execution_count": null,
   "metadata": {},
   "outputs": [],
   "source": [
    "# Imports\n",
    "import os\n",
    "import numpy as np\n",
    "import pandas as pd\n",
    "import matplotlib.pyplot as plt\n",
    "from matplotlib.ticker import MaxNLocator\n",
    "import quickpbsa as pbsa\n",
    "import tkinter as tk\n",
    "from tkinter import filedialog\n",
    "from pathlib import Path\n",
    "import math\n",
    "\n",
    "from IPython.core.display import HTML\n",
    "\n",
    "root = tk.Tk()\n",
    "root.withdraw()\n",
    "root.call('wm', 'attributes', '.', '-topmost', True)\n",
    "\n",
    "notebook_path = Path(os.path.abspath(\"\"))\n",
    "\n",
    "data, data_labels, results = None, None, None"
   ]
  },
  {
   "cell_type": "markdown",
   "metadata": {},
   "source": [
    "### 2 Import data from ImageJ/Neurotorch Multimeasure or use example data\n",
    "\n",
    "After running the first cell, you can either use example data (run section 2a) or import files from ImageJ/Neurotorch (run section 2b)"
   ]
  },
  {
   "cell_type": "code",
   "execution_count": null,
   "metadata": {},
   "outputs": [],
   "source": [
    "# Defining plot function\n",
    "data, data_labels = None, None\n",
    "def plot_data(combine_plots = False, title:str|None = None):\n",
    "    global data, data_labels\n",
    "    if data is None or data_labels is None: return\n",
    "    \n",
    "    if combine_plots:\n",
    "        plt.xlabel(\"Frame\")\n",
    "        plt.ylabel(\"Intensity\")\n",
    "        plt.title(title if title is not None else \"\")\n",
    "        for i in range(data.shape[0]):\n",
    "            plt.plot(range(data.shape[1]), data[i], label=data_labels[i])\n",
    "        plt.legend()\n",
    "        plt.show()\n",
    "        return\n",
    "            \n",
    "    nrows, ncols = math.ceil(data.shape[0]/3), 3\n",
    "    fig, axes = plt.subplots(nrows=nrows, ncols=ncols, figsize=(15, 5*nrows))\n",
    "    axes = axes.flatten()\n",
    "    for ax in axes:\n",
    "        ax.set_axis_off()\n",
    "    for i in range(data.shape[0]):\n",
    "        ax = axes[i]\n",
    "        ax.set_axis_on()\n",
    "        x, y = range(data.shape[1]), data[i]\n",
    "        ax.plot(x,y)\n",
    "        ax.set_xlabel(\"Frame\")\n",
    "        ax.set_ylabel(\"Intensity\")\n",
    "        ax.set_title(data_labels[i])\n",
    "    fig.tight_layout()\n",
    "    plt.show()"
   ]
  },
  {
   "cell_type": "markdown",
   "metadata": {},
   "source": [
    "#### 2a Load example data\n",
    "Run the following cell to load example data"
   ]
  },
  {
   "cell_type": "code",
   "execution_count": null,
   "metadata": {},
   "outputs": [],
   "source": [
    "# Load and plot xample data\n",
    "data = np.loadtxt(notebook_path / 'ExampleTrace.txt')\n",
    "data = np.append(data, [np.sum(data, axis=0)], axis=0)\n",
    "data_labels = ['4 Fluorophores','3 Fluorophores','3 Fluorophores','Sum']\n",
    "\n",
    "plot_data(combine_plots=True, title=\"Example Dataset\")"
   ]
  },
  {
   "cell_type": "markdown",
   "metadata": {},
   "source": [
    "#### 2b Load multimeasure.csv from ImageJ/Neurotorch"
   ]
  },
  {
   "cell_type": "code",
   "execution_count": null,
   "metadata": {},
   "outputs": [],
   "source": [
    "# Load data from a multi measure file\n",
    "if not (p := filedialog.askopenfilename(parent=root, title=\"Open a multi measure CSV file\", defaultextension=\"*.csv\", filetypes=[(\".csv\", \"*.csv\"), (\"All files\", \"*.*\")])) or not (path := Path(p)).exists():\n",
    "    print(\"Your provided path is invalid or empty\")\n",
    "else:\n",
    "    tempFile = notebook_path / \"file.csv\"\n",
    "    data, data_labels = None, None\n",
    "    data_multimeasure = pd.read_csv(path, sep=\",\", header=0, index_col=0)\n",
    "    display(HTML(f\"<h3> {path.name} </h3>\"))\n",
    "    display(data_multimeasure)\n",
    "\n",
    "    data = data_multimeasure.to_numpy().transpose()\n",
    "    data_labels = list(data_multimeasure.columns)\n",
    "\n",
    "    plot_data()"
   ]
  },
  {
   "cell_type": "markdown",
   "metadata": {},
   "source": [
    "### 3 Detect steps by using quickPBSA\n",
    "\n",
    "You need to set the settings in the following cell by hand. Then you run the two cells below to plot the result"
   ]
  },
  {
   "cell_type": "code",
   "execution_count": null,
   "metadata": {},
   "outputs": [],
   "source": [
    "# Settings: This values needs to be changed!\n",
    "KV_threshold = 20 # KV threshold (1/3 to 1/2 of typical last step)\n",
    "KV_maxiter = 100   # Maximum KV iterations (much higher than expected number of steps)"
   ]
  },
  {
   "cell_type": "markdown",
   "metadata": {},
   "source": [
    "Now run this cell once to define the plot function"
   ]
  },
  {
   "cell_type": "code",
   "execution_count": null,
   "metadata": {},
   "outputs": [],
   "source": [
    "# Defining a plot function for the result\n",
    "def plot_results():\n",
    "    global data, data_labels, results\n",
    "    if data is None or data_labels is None or results is None or len(results) == 0: return\n",
    "\n",
    "    nrows, ncols = math.ceil(data.shape[0]), 4\n",
    "    fig, axes = plt.subplots(nrows=nrows, ncols=ncols, figsize=(23, 5*nrows))\n",
    "    axes = axes.flatten()\n",
    "    for i in range(data.shape[0]):\n",
    "        r = results[i]\n",
    "        ax1 = axes[4*i]\n",
    "        ax2 = axes[4*i+1]\n",
    "        ax3 = axes[4*i+2]\n",
    "        ax4 = axes[4*i+3]\n",
    "        ax2_twin = ax2.twinx()\n",
    "        ax3_twin = ax3.twinx()\n",
    "        ax4_twin = ax4.twinx()\n",
    "        for ax in [ax1, ax2, ax3, ax4]:\n",
    "            ax.plot(data[i], label=\"Trace\")\n",
    "        for ax in [ax1, ax4]:\n",
    "            ax.plot(r[\"meantrace\"], c=\"orange\", label=\"Means\")\n",
    "        for ax_twin in [ax2_twin, ax4_twin]:\n",
    "            ax_twin.plot(r[\"fluortrace_primary\"], \"m--\", label=\"Fluorophores (primary refinement)\")\n",
    "        for ax_twin in [ax3_twin, ax4_twin]:\n",
    "            if not r[\"fluortrace_secondary\"] is None:\n",
    "                ax_twin.plot(r[\"fluortrace_secondary\"], \"r--\", label=\"Fluorophores (secondary refinement)\")\n",
    "        for ax, ax_twin in zip([ax1, ax2, ax3, ax4], [None, ax2_twin, ax3_twin, ax4_twin]):\n",
    "            ax.set_xlabel(\"Frame\")\n",
    "            ax.set_ylabel(\"Intensity\")\n",
    "            ax.set_title(data_labels[i])\n",
    "            if ax_twin is not None:\n",
    "                ax_twin.yaxis.set_major_locator(MaxNLocator(integer=True))\n",
    "                ax_twin.set_ylabel('Fluorophores', c=\"red\")\n",
    "                lines, labels = ax.get_legend_handles_labels()\n",
    "                lines2, labels2 = ax_twin.get_legend_handles_labels()\n",
    "                ax_twin.legend(lines + lines2, labels + labels2, loc=0)\n",
    "            else:\n",
    "                ax.legend()\n",
    "    fig.tight_layout()\n",
    "    plt.show()"
   ]
  },
  {
   "cell_type": "markdown",
   "metadata": {},
   "source": [
    "Rerun the following cell every time you want to replot data"
   ]
  },
  {
   "cell_type": "code",
   "execution_count": null,
   "metadata": {},
   "outputs": [],
   "source": [
    "# Detect steps using quickPBSA\n",
    "\n",
    "results = []\n",
    "\n",
    "for i in range(data.shape[0]):\n",
    "    trace = data[i]\n",
    "    trace_flipped = np.flipud(trace)\n",
    "    steppos, means, variances, posbysic, niter = pbsa.steps_preliminary.kv_single_fast(trace_flipped, KV_threshold, KV_maxiter)\n",
    "    \n",
    "    diffs = np.diff(np.hstack([0, steppos, len(trace_flipped)]))\n",
    "    meantrace = np.repeat(means, diffs)\n",
    "    fluors = np.cumsum(np.hstack((0, np.sign(np.diff(means)))))\n",
    "    fluortrace = np.repeat(fluors, diffs)\n",
    "\n",
    "    try:\n",
    "        success, sicmin, steppos_out, step_out = pbsa.steps_refinement.improve_steps_single(trace_flipped, steppos, means, variances, posbysic)\n",
    "    except Exception as ex:\n",
    "        print(f\"Failed secondary refinment step due to the following error:\", str(ex))\n",
    "        success, sicmin, steppos_out, step_out = None, None, None, None\n",
    "        diffs2, fluors2, fluortrace2 = None, None, None\n",
    "    else:\n",
    "        diffs2 = np.diff(np.hstack([0, steppos_out, len(trace)]))\n",
    "        fluors2 = np.cumsum(np.hstack([0, step_out]))\n",
    "        fluortrace2 = np.repeat(fluors2, diffs2)\n",
    "\n",
    "        steppos_out = np.flipud(steppos_out)\n",
    "        step_out = np.flipud(step_out)\n",
    "        diffs2 = np.flipud(diffs2)\n",
    "        fluors2 = np.flipud(fluors2)\n",
    "        fluortrace2 = np.flipud(fluortrace2)\n",
    "\n",
    "    steppos = np.flipud(steppos)\n",
    "    means = np.flipud(means)\n",
    "    variances = np.flipud(variances)\n",
    "    posbysic = np.flipud(posbysic)\n",
    "    diffs = np.flipud(diffs)\n",
    "    meantrace = np.flipud(meantrace)\n",
    "    fluors = np.flipud(fluors)\n",
    "    fluortrace = np.flipud(fluortrace)\n",
    "\n",
    "    results.append({\"steppos\": steppos, \"means\": means, \"variances\": variances, \"posbysic\": posbysic, \"niter\": niter, \"success\": success, \"sicmin\": sicmin, \"steppos_out\": steppos_out, \"step_out\": step_out, \n",
    "                    \"diffs_primary\": diffs, \"meantrace\": meantrace, \"fluors_primary\": fluors, \"fluortrace_primary\": fluortrace, \"diffs_secondary\": diffs2, \"fluors_secondary\": fluors2, \"fluortrace_secondary\": fluortrace2})\n",
    "    \n",
    "plot_results()"
   ]
  }
 ],
 "metadata": {
  "kernelspec": {
   "display_name": "agheine",
   "language": "python",
   "name": "python3"
  },
  "language_info": {
   "codemirror_mode": {
    "name": "ipython",
    "version": 3
   },
   "file_extension": ".py",
   "mimetype": "text/x-python",
   "name": "python",
   "nbconvert_exporter": "python",
   "pygments_lexer": "ipython3",
   "version": "3.12.8"
  }
 },
 "nbformat": 4,
 "nbformat_minor": 2
}
