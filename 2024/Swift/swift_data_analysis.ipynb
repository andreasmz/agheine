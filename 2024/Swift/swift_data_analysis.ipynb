{
 "cells": [
  {
   "cell_type": "markdown",
   "metadata": {},
   "source": [
    "# Swift data analysis\n",
    "Created by: Andreas B <br>\n",
    "Date: 17th of July 2024 <br>\n",
    "Purpose: Batch analysis of Swift data exported as csv "
   ]
  },
  {
   "cell_type": "markdown",
   "metadata": {},
   "source": [
    "#### 0 Tutorial"
   ]
  },
  {
   "cell_type": "markdown",
   "metadata": {},
   "source": [
    "<b> A Quick guide on jupyter notebooks </b> <br>\n",
    "![SegmentLocal](tutorial_runCell.gif \"segment\") <br>\n",
    "To run this script, select a cell and run. The setups cells need to be run from top to low to initialize the code. <br>\n",
    "If Visual Studio code ask you to select an environment, select Python 3 and if there multiple environments to choose from, look for one named 'base' <br>\n",
    "![SegmentLocal](tutorial_selectKernel.gif \"segment\") <br> <br>\n",
    "\n",
    "<b> B What does this notebook do? </b> <br>\n",
    "All the .csv files in the folder are used to make a weighted histogram meaning that every value of mjd is only contributing to the histogram by its total occurrence (mjd_n)."
   ]
  },
  {
   "cell_type": "markdown",
   "metadata": {},
   "source": [
    "#### 1 Setup"
   ]
  },
  {
   "cell_type": "code",
   "execution_count": 2,
   "metadata": {},
   "outputs": [],
   "source": [
    "import numpy as np\n",
    "import pandas as pd\n",
    "import tkinter as tk\n",
    "from tkinter import filedialog\n",
    "import os, os.path\n",
    "import matplotlib.pyplot as plt\n",
    "from ipywidgets import interact, Button\n",
    "import ipywidgets as widgets\n",
    "from datetime import datetime"
   ]
  },
  {
   "cell_type": "code",
   "execution_count": 3,
   "metadata": {},
   "outputs": [
    {
     "data": {
      "text/plain": [
       "''"
      ]
     },
     "execution_count": 3,
     "metadata": {},
     "output_type": "execute_result"
    }
   ],
   "source": [
    "root = tk.Tk()\n",
    "root.withdraw()\n",
    "root.wm_attributes('-topmost', 1)"
   ]
  },
  {
   "cell_type": "markdown",
   "metadata": {},
   "source": [
    "#### 3 Analysis\n",
    "Here the data can be plotted as histogram and exported as raw numbers or image"
   ]
  },
  {
   "cell_type": "markdown",
   "metadata": {},
   "source": [
    "Select here a working folder containing csv files"
   ]
  },
  {
   "cell_type": "code",
   "execution_count": 4,
   "metadata": {},
   "outputs": [
    {
     "name": "stdout",
     "output_type": "stream",
     "text": [
      "Path: D:/Eigene Datein/Programmieren/Git/abrilka/agheine/2024/Swift/demo/swift demo data\n",
      "Imported files:\n",
      "   export.csv\n",
      "   export2.csv\n"
     ]
    }
   ],
   "source": [
    "def ReadData(path):\n",
    "    global data\n",
    "    data = {}\n",
    "    files = [f for f in os.listdir(path) if os.path.isfile(os.path.join(path, f))]\n",
    "    print(\"Imported files:\")\n",
    "    for file in files:\n",
    "        print(\"  \",file)\n",
    "        data[file] = pd.read_csv(os.path.join(path, file), sep=\",\", header=0)\n",
    "\n",
    "file_path = filedialog.askdirectory(parent=root, title=\"Select a folder\")\n",
    "if (file_path is None or file_path == \"\"):\n",
    "    print(\"No folder selected\")\n",
    "else:\n",
    "    print(\"Path:\",file_path)\n",
    "    ReadData(file_path)\n",
    "hist = None\n",
    "dataMerged = None"
   ]
  },
  {
   "cell_type": "markdown",
   "metadata": {},
   "source": [
    "Run this cell to display the data and to set the bins, the min and the max"
   ]
  },
  {
   "cell_type": "code",
   "execution_count": 5,
   "metadata": {},
   "outputs": [
    {
     "name": "stdout",
     "output_type": "stream",
     "text": [
      "Total datapoints: 2766\n"
     ]
    },
    {
     "data": {
      "application/vnd.jupyter.widget-view+json": {
       "model_id": "4b687a7db3704beaa14425941a0a324e",
       "version_major": 2,
       "version_minor": 0
      },
      "text/plain": [
       "interactive(children=(Text(value='mjd histogram weighted by mjd_n', description='Title'), IntSlider(value=30, …"
      ]
     },
     "metadata": {},
     "output_type": "display_data"
    },
    {
     "data": {
      "application/vnd.jupyter.widget-view+json": {
       "model_id": "321b875096554e4ab1ba37af20e36d07",
       "version_major": 2,
       "version_minor": 0
      },
      "text/plain": [
       "Button(description='Save figure', style=ButtonStyle())"
      ]
     },
     "metadata": {},
     "output_type": "display_data"
    },
    {
     "data": {
      "application/vnd.jupyter.widget-view+json": {
       "model_id": "7203e7e29b4a4eb09965a538b137c259",
       "version_major": 2,
       "version_minor": 0
      },
      "text/plain": [
       "Button(description='Export data', style=ButtonStyle())"
      ]
     },
     "metadata": {},
     "output_type": "display_data"
    },
    {
     "name": "stdout",
     "output_type": "stream",
     "text": [
      "Log\n"
     ]
    },
    {
     "name": "stdout",
     "output_type": "stream",
     "text": [
      "2024-07-24 16:44:54.490588 No path selected\n",
      "2024-07-24 16:44:56.459512 No path selected\n",
      "2024-07-24 16:45:51.511060 Saved csv to D:/Eigene Datein/Programmieren/Git/abrilka/agheine/2024/Swift/demo/export.csv\n"
     ]
    }
   ],
   "source": [
    "dataMerged = pd.concat([d for d in data.values()])\n",
    "print(\"Total datapoints:\", len(dataMerged))\n",
    "def Plot(title, bins, min, max):\n",
    "    global dataMerged, hist, fig,ax\n",
    "    fig, ax = plt.subplots()\n",
    "    hist = ax.hist(dataMerged[\"mjd\"], weights=dataMerged[\"mjd_n\"], bins=bins, range=(min,max))\n",
    "    plt.title(title)\n",
    "\n",
    "interact(Plot, \n",
    "         title=widgets.Text(value=\"mjd histogram weighted by mjd_n\", description=\"Title\"),\n",
    "         bins=widgets.IntSlider(min=1, max=100, step=1, value=30), \n",
    "         min=widgets.IntSlider(min=0, max=1000, step=10, value=0), \n",
    "         max=widgets.IntSlider(min=0, max=3000, step=10, value=np.max(dataMerged[\"mjd\"])))\n",
    "def SaveCSV(self):\n",
    "    global hist\n",
    "    save_file = filedialog.asksaveasfile(parent=root, mode=\"w\", title=\"Save as csv\", filetypes=[(\"Comma-separated values\", \"*.csv\"), (\"All files\", \"*.*\")], defaultextension=\".csv\")\n",
    "    if save_file is None:\n",
    "        print(datetime.now(),\"No path selected\")\n",
    "    else:\n",
    "        save_file.write(\"mjd_left,mjd_right,'mjd weighted by mjd_n'\\n\")\n",
    "        for i in range(len(hist[0])):\n",
    "            save_file.write(\"%s,%s,%s\\n\" % (round(hist[1][i],3),round(hist[1][i+1],3), hist[0][i]))\n",
    "        save_file.close()\n",
    "        print(datetime.now(),\"Saved csv to\",save_file.name)\n",
    "def SaveFig(self):\n",
    "    global hist,fig\n",
    "    save_file = filedialog.asksaveasfile(parent=root, mode=\"w\", title=\"Save as PNG\", filetypes=[(\"PNG\", \"*.png\"), (\"All files\", \"*.*\")], defaultextension=\".png\")\n",
    "    if save_file is None:\n",
    "        print(datetime.now(),\"No path selected\")\n",
    "    else:\n",
    "        _fname = save_file.name\n",
    "        save_file.close()\n",
    "        fig.savefig(_fname)\n",
    "        print(datetime.now(),\"Saved PNG to\",save_file.name)\n",
    "btnSaveFig = Button(description=\"Save figure\")\n",
    "btnSaveCSV = Button(description=\"Export data\")\n",
    "display(btnSaveFig)\n",
    "display(btnSaveCSV)\n",
    "btnSaveCSV.on_click(SaveCSV)\n",
    "btnSaveFig.on_click(SaveFig)\n",
    "print(\"Log\")"
   ]
  }
 ],
 "metadata": {
  "kernelspec": {
   "display_name": "base",
   "language": "python",
   "name": "python3"
  },
  "language_info": {
   "codemirror_mode": {
    "name": "ipython",
    "version": 3
   },
   "file_extension": ".py",
   "mimetype": "text/x-python",
   "name": "python",
   "nbconvert_exporter": "python",
   "pygments_lexer": "ipython3",
   "version": "3.11.3"
  }
 },
 "nbformat": 4,
 "nbformat_minor": 2
}
