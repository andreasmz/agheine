{
 "cells": [
  {
   "cell_type": "code",
   "execution_count": 3,
   "metadata": {},
   "outputs": [],
   "source": [
    "import pandas as pd\n",
    "import numpy as np"
   ]
  },
  {
   "cell_type": "code",
   "execution_count": 9,
   "metadata": {},
   "outputs": [],
   "source": [
    "data = pd.DataFrame(50*(np.random.rand(100, 6)+1), columns=(\"mjd\", \"mjd_n\", \"m j d\", \"m\", \"j\", \"d\"))\n",
    "data.to_csv(\"export multi columns.csv\")"
   ]
  },
  {
   "cell_type": "code",
   "execution_count": 68,
   "metadata": {},
   "outputs": [
    {
     "name": "stdout",
     "output_type": "stream",
     "text": [
      "         Alpha       Beta  Delta  Epsilon Text      Gamma\n",
      "0    74.046685  55.647589      1      NaN  NaN        NaN\n",
      "1    46.505265  58.430604      1      NaN  NaN        NaN\n",
      "2    24.924253  54.228632      1      NaN  NaN        NaN\n",
      "3    19.222883  42.132547      1      NaN  NaN        NaN\n",
      "4    85.289817  52.981343      1      NaN  NaN        NaN\n",
      "..         ...        ...    ...      ...  ...        ...\n",
      "195  62.260072        NaN      1      NaN  NaN  40.738039\n",
      "196  29.544849        NaN      1      NaN  NaN  55.608059\n",
      "197  69.197818        NaN      1      NaN  NaN  51.264166\n",
      "198  37.867925        NaN      1      NaN  NaN  55.947749\n",
      "199  60.999889        NaN      1      NaN  NaN  49.982404\n",
      "\n",
      "[200 rows x 6 columns]\n"
     ]
    }
   ],
   "source": [
    "df1 = pd.DataFrame({\"Alpha\": 20*np.random.randn(25)+50, \"Beta\": 5*np.random.randn(25)+50, \"Delta\": np.full(25, 1)}, columns=(\"Alpha\", \"Beta\", \"Delta\"))\n",
    "df2 = pd.DataFrame({\"Alpha\": 20*np.random.randn(25)+50, \"Beta\": 5*np.random.randn(25)+50, \"Delta\": np.full(25, 1), \"Epsilon\": np.full(25, 1), \"Text\": np.full(25, 'Hello World')}, columns=(\"Alpha\", \"Beta\", \"Delta\", \"Epsilon\", \"Text\"))\n",
    "df3 = pd.DataFrame({\"Alpha\": 20*np.random.randn(50)+50, \"Beta\": 5*np.random.randn(50)+50, \"Delta\": np.full(50, 1)}, columns=(\"Alpha\", \"Beta\", \"Delta\"))\n",
    "df4 = pd.DataFrame({\"Alpha\": 20*np.random.randn(100)+50, \"Gamma\": 5*np.random.randn(100)+50, \"Delta\": np.full(100, 1)}, columns=(\"Alpha\", \"Gamma\", \"Delta\"))\n",
    "data = pd.concat([df1, df2, df3, df4], ignore_index=True)\n",
    "\n",
    "print(data)\n",
    "data.to_csv(\"Test CSV file.csv\")"
   ]
  },
  {
   "cell_type": "code",
   "execution_count": 2,
   "metadata": {},
   "outputs": [
    {
     "name": "stdout",
     "output_type": "stream",
     "text": [
      "[1, 2, 3, 4]\n"
     ]
    }
   ],
   "source": [
    "d = [1,2,3,4,5]\n",
    "print(d[:-1])"
   ]
  },
  {
   "cell_type": "code",
   "execution_count": 7,
   "metadata": {},
   "outputs": [
    {
     "name": "stdout",
     "output_type": "stream",
     "text": [
      "[0, 'A', 'B', 'C']\n"
     ]
    }
   ],
   "source": [
    "d = list([f\"{x}\" for x in [\"A\",\"B\",\"C\"] if x != \"file\"])"
   ]
  },
  {
   "cell_type": "code",
   "execution_count": 26,
   "metadata": {},
   "outputs": [
    {
     "name": "stdout",
     "output_type": "stream",
     "text": [
      "(array([0, 0, 0, 0]), array([ 0. ,  2.5,  5. ,  7.5, 10. ]))\n",
      "(array([2, 1, 0, 1], dtype=int64), array([ 0. ,  2.5,  5. ,  7.5, 10. ]))\n"
     ]
    }
   ],
   "source": [
    "print(np.histogram([float('NaN'), 5], bins=4, range=(0,10), weights=[100, 0]))\n",
    "print(np.histogram([1,2,3,float('10')], bins=4, range=(0,10)))"
   ]
  }
 ],
 "metadata": {
  "kernelspec": {
   "display_name": "base",
   "language": "python",
   "name": "python3"
  },
  "language_info": {
   "codemirror_mode": {
    "name": "ipython",
    "version": 3
   },
   "file_extension": ".py",
   "mimetype": "text/x-python",
   "name": "python",
   "nbconvert_exporter": "python",
   "pygments_lexer": "ipython3",
   "version": "3.11.3"
  }
 },
 "nbformat": 4,
 "nbformat_minor": 2
}
